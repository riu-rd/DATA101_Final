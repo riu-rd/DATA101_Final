{
 "cells": [
  {
   "cell_type": "code",
   "execution_count": null,
   "metadata": {},
   "outputs": [],
   "source": [
    "# Setup Folders, Tokens, and Dependencies\n",
    "import numpy as np\n",
    "import pandas as pd\n",
    "import geopandas as gpd\n",
    "import matplotlib.pyplot as plt\n",
    "import plotly.express as px\n",
    "from pathlib import Path\n",
    "\n",
    "datasets_folder = Path('./data')\n",
    "px.set_mapbox_access_token(open(\".mapbox_token\").read())"
   ]
  },
  {
   "cell_type": "markdown",
   "metadata": {},
   "source": [
    "# Loading the Data"
   ]
  },
  {
   "cell_type": "code",
   "execution_count": null,
   "metadata": {},
   "outputs": [],
   "source": [
    "temp_gdf = gpd.read_file(datasets_folder / 'temperature.geojson')\n",
    "bio_land_gdf =  gpd.read_file(datasets_folder / 'biodiversity_land.geojson')\n",
    "bio_sea_gdf =  gpd.read_file(datasets_folder / 'biodiversity_sea.geojson')\n",
    "disaster_gdf = gpd.read_file(datasets_folder / 'disaster.geojson')"
   ]
  },
  {
   "cell_type": "markdown",
   "metadata": {},
   "source": [
    "**APP IDEAS**\n",
    "- The initial page will an animated of a short text on the center that catches the viewers' attention. It can be a call to action or a hook to incite curiosity.\n",
    "- Below the Text will be a button to \"Click to Learn More\" or \"Continue\", leading to the Temperature page\n",
    "- All pages will contain a header/nav that contains an offcanvas for easier navigation between pages"
   ]
  },
  {
   "cell_type": "markdown",
   "metadata": {},
   "source": [
    "# Temperature"
   ]
  },
  {
   "cell_type": "code",
   "execution_count": null,
   "metadata": {},
   "outputs": [],
   "source": [
    "print(temp_gdf.shape)\n",
    "temp_gdf.head()"
   ]
  },
  {
   "cell_type": "markdown",
   "metadata": {},
   "source": [
    "### TEMP 1: The first visualization for the temperature data is an **Animated Bar Graph** that shows the Average Temperature per Province in [Island Group] across all of the decades from 1960s to 2020s.\n",
    "#### Interactions:\n",
    "- Across the Decades Animation\n",
    "- DropDown/RadioButtons that switch [Island Group] \"Luzon, Visayas, and Mindanao\" through Dash"
   ]
  },
  {
   "cell_type": "code",
   "execution_count": null,
   "metadata": {},
   "outputs": [],
   "source": [
    "# Sliced GDF by Island Group\n",
    "luzon_gdf = temp_gdf[(temp_gdf['island_group'].isin(['Visayas']) == True)] # Change Island Group based on Dropdown Value\n",
    "\n",
    "# Create the Figure with horizontal orientation\n",
    "fig = px.bar(luzon_gdf, y='name', x='value', animation_frame=\"decade\", orientation='h')\n",
    "\n",
    "# Update the layout\n",
    "fig.update_layout(\n",
    "    autosize=True,\n",
    "    height=600,  # Set total height to accommodate the graph and controls\n",
    "    title='Average Temperature per Province in Luzon',\n",
    "    margin=dict(l=20, r=20, t=50, b=50),\n",
    ")\n",
    "\n",
    "# Update y-axis label\n",
    "fig.update_yaxes(title_text=\"Province Name\")  \n",
    "\n",
    "# Update x-axis label\n",
    "fig.update_xaxes(title_text=\"Temperature (°C)\", \n",
    "                 range=[0, 33],  # Set the range for the x-axis\n",
    "                 tickmode='linear', \n",
    "                 dtick=2,  # Set the tick interval for the x-axis\n",
    "                 tickangle=0)  # Set the angle of the x-axis labels)  \n",
    "\n",
    "# Update hover template\n",
    "hover_template = \"Average Temperature in<br>\" + \\\n",
    "                 \"<b>%{y}</b><br>\" + \\\n",
    "                 \"during the %{customdata[0]}:<br>\" + \\\n",
    "                 \"%{customdata[1]:.2f}°C\"\n",
    "\n",
    "fig.update_traces(hovertemplate=hover_template,\n",
    "                  customdata=luzon_gdf[['decade', 'value']])\n",
    "\n",
    "for frame in fig.frames:\n",
    "    frame.data[0].hovertemplate = hover_template\n",
    "    frame.data[0].customdata = luzon_gdf[['decade', 'value']]\n",
    "\n",
    "# Update menus and sliders position\n",
    "fig.update_layout(\n",
    "    updatemenus=[{\n",
    "        'direction': 'left',  \n",
    "        'pad': {'t': 10, 'b': 10, 'l': 10, 'r': 10},  # Adjust padding as needed\n",
    "        'showactive': False,\n",
    "        'type': 'buttons',\n",
    "        'x': 0.06,  \n",
    "        'xanchor': 'right',\n",
    "        'y': -0.14,  # Position the menu below the graph\n",
    "        'yanchor': 'top'\n",
    "    }],\n",
    "    sliders=[{\n",
    "        'active': 0,\n",
    "        'x': 0.98,   \n",
    "        'y': -0.08,  # Position the slider below the graph\n",
    "        'xanchor': 'right',\n",
    "        'yanchor': 'top',\n",
    "        'transition': {'duration': 300, 'easing': 'cubic-in-out'},\n",
    "        'pad': {'t': 10, 'b': 10, 'l': 10, 'r': 10},  # Adjust padding as needed\n",
    "        'currentvalue': {\n",
    "            'font': {'size': 16},\n",
    "            'prefix': 'Decade:',\n",
    "            'visible': True,\n",
    "            'xanchor': 'right',\n",
    "        },\n",
    "        'visible': True,\n",
    "    }]\n",
    ")\n",
    "\n",
    "fig.show()\n"
   ]
  },
  {
   "cell_type": "markdown",
   "metadata": {},
   "source": [
    "### TEMP 2:  The second visualization for the temperature data is a **Chloropleth Map** that shows the Average Temperature per Province across all of the decades from 1960s to 2020s.\n",
    "#### Interactions:\n",
    "- Across the Decades Animation\n",
    "\n",
    "<em>Note: the reason that only four decades are used (1960s, 1980s, 2000s, and 2020s) is because using more decades/dimensions would make the load time of the figure significantly higher reaching up to an hour. This visualization takes approximately 2-3 minutes to load in this notebook. </em>"
   ]
  },
  {
   "cell_type": "code",
   "execution_count": null,
   "metadata": {},
   "outputs": [],
   "source": [
    "# Initialize the years\n",
    "temp_sliced = temp_gdf[(temp_gdf['decade'].isin(['1960s', '1980s', '2000s', '2020s']) == True)].reset_index()\n",
    "\n",
    "# Create the Figure\n",
    "fig = px.choropleth_mapbox(temp_sliced,\n",
    "                           geojson=temp_sliced.geometry,\n",
    "                           locations=temp_sliced.index,\n",
    "                           color='value',\n",
    "                           color_continuous_scale='turbo',\n",
    "                           range_color=[25, 32.5], \n",
    "                           mapbox_style='streets',\n",
    "                           zoom=5, \n",
    "                           center={\"lat\": 12.8797, \"lon\": 121.7740},\n",
    "                           opacity=0.6,\n",
    "                           animation_frame=\"decade\"\n",
    "                           )\n",
    "\n",
    "fig.update_layout(coloraxis_colorbar=dict(title=\"Average<br>Temperature (°C)\",yanchor=\"top\",xanchor='right',\n",
    "                            y=1, x=1, ticks=\"outside\", thickness=10, title_font_color='#0c232c',\n",
    "                            tickvals=[i for i in range(25, 33)],  \n",
    "                            tickmode='array',  \n",
    "                            ticksuffix='°C',\n",
    "                            tickfont=dict(\n",
    "                            size=12,\n",
    "                            color='#0c232c')\n",
    "                        )\n",
    "                    )\n",
    "\n",
    "fig.update_layout(margin=dict(l=0, r=0, t=0, b=0),\n",
    "    updatemenus=[{\n",
    "        'buttons': [\n",
    "                {'visible': True}\n",
    "        ],\n",
    "        'direction': 'left',  \n",
    "        'pad': {'t': 0, 'b': 0, 'l': 0, 'r': 0},  \n",
    "        'showactive': False,\n",
    "        'type': 'buttons',\n",
    "        'x': 0.1,  \n",
    "        'xanchor': 'right',\n",
    "        'y': 0.24,  \n",
    "        'yanchor': 'top'\n",
    "    }],\n",
    "    sliders=[{\n",
    "        'active': 0,\n",
    "        'x': 0.05,   \n",
    "        'y': 0.19, \n",
    "        'len': 0.5,\n",
    "        'xanchor': 'left',\n",
    "        'yanchor': 'top',\n",
    "        'currentvalue': {\n",
    "            'font': {'size': 16},\n",
    "            'prefix': 'Decade:',\n",
    "            'visible': True,\n",
    "            'xanchor': 'right'\n",
    "        },\n",
    "        'transition': {'duration': 1000, 'easing': 'cubic-in-out'},\n",
    "        'pad': {'t': 0, 'b': 0, 'l': 0, 'r': 0}\n",
    "    }]\n",
    ")\n",
    "\n",
    "hover_template = '<b>%{customdata[0]}</b><br>Average Temp: %{customdata[1]:.2f}°C<extra></extra>'\n",
    "\n",
    "fig.update_traces(hovertemplate=hover_template,\n",
    "                  customdata=temp_sliced[['name', 'value']])\n",
    "\n",
    "for frame in fig.frames:\n",
    "    frame.data[0].hovertemplate = hover_template\n",
    "    frame.data[0].customdata = temp_sliced[['name', 'value']]\n",
    "\n",
    "fig.show()"
   ]
  },
  {
   "cell_type": "markdown",
   "metadata": {},
   "source": [
    "**APP IDEAS**\n",
    "- The temperature page will be in two columns 3:9\n",
    "- The right one is the map TEMP 2\n",
    "- The left one is a header and story explaining the map\n",
    "- below the text will be a modal button \"See More\" that opens a modal\n",
    "- The modal contains two columns, the left one is a text header and story, the right one is TEMP 1 bar graph\n",
    "- The app will have a footer that has two buttons at its ends, \"< BACK\" and \"NEXT >\"\n",
    "- Back will lead to the initial page and Next will lead to the Biodiversity Page"
   ]
  },
  {
   "cell_type": "markdown",
   "metadata": {},
   "source": [
    "# Biodiversity"
   ]
  },
  {
   "cell_type": "code",
   "execution_count": null,
   "metadata": {},
   "outputs": [],
   "source": [
    "print(bio_land_gdf.shape)\n",
    "bio_land_gdf.head()"
   ]
  },
  {
   "cell_type": "markdown",
   "metadata": {},
   "source": [
    "### BIO 1: The first visualization for the biodiversity data is a **Chloropleth Map** that shows the number of [Total/CR/EN/VU] unique species per Province.\n",
    "#### Interactions:\n",
    "- DropDown/RadioButtons that switch between \"Total, CR, EN and VU\" through Dash"
   ]
  },
  {
   "cell_type": "code",
   "execution_count": null,
   "metadata": {},
   "outputs": [],
   "source": [
    "fig = px.choropleth_mapbox(bio_land_gdf,\n",
    "                            geojson=bio_land_gdf.geometry,\n",
    "                            locations=bio_land_gdf.index,\n",
    "                            color='Critically Endangered', # Change this based on dropdown\n",
    "                            color_continuous_scale='balance',\n",
    "                            range_color=[bio_land_gdf['Critically Endangered'].min(), bio_land_gdf['Critically Endangered'].max()],  \n",
    "                            mapbox_style='streets',  \n",
    "                            zoom=5,  \n",
    "                            center={\"lat\": bio_land_gdf.geometry.centroid.y.mean(), \n",
    "                                    \"lon\": bio_land_gdf.geometry.centroid.x.mean()}, \n",
    "                            opacity=0.6,\n",
    "                            )\n",
    "\n",
    "fig.update_layout(margin=dict(l=0, r=0, t=0, b=0))\n",
    "\n",
    "fig.update_layout(coloraxis_colorbar=dict(title=\"Critically Endangered<br>Species\",yanchor=\"top\",xanchor='right',\n",
    "                            y=1, x=1, ticks=\"outside\", thickness=10, title_font_color='#0c232c',  \n",
    "                            ticksuffix=' Species',\n",
    "                            tickfont=dict(\n",
    "                            size=12,\n",
    "                            color='#0c232c')\n",
    "                        )\n",
    "                    )\n",
    "\n",
    "hover_template = '<b>%{customdata[0]}</b><br>Unique Species: %{customdata[1]:.0f}<extra></extra>'\n",
    "\n",
    "fig.update_traces(hovertemplate=hover_template,\n",
    "                  customdata=bio_land_gdf[['name', 'Critically Endangered']])\n",
    "\n",
    "fig.show()"
   ]
  },
  {
   "cell_type": "markdown",
   "metadata": {},
   "source": [
    "### BIO 2: The second visualization for the biodiversity data is a DRILLDOWN operation on the previous **Chloropleth Map** that shows the number of [Total/CR/EN/VU] unique species per Province. In addition to this, the drilldown will be based on Island Groups\n",
    "#### Interactions:\n",
    "- A button that triggers the drilldown\n",
    "- DropDown/RadioButtons that switch between \"Total, CR, EN and VU\" (from the previous map BIO 1)\n",
    "- DropDown/RadioButtons that switch between \"Luzon, Visayas, and Mindanao\""
   ]
  },
  {
   "cell_type": "code",
   "execution_count": null,
   "metadata": {},
   "outputs": [],
   "source": [
    "# Set Island Group\n",
    "curr_group = bio_land_gdf[bio_land_gdf['island_group'] == 'Luzon']\n",
    "\n",
    "# Createe the figure\n",
    "fig = px.choropleth_mapbox(curr_group,\n",
    "                            geojson=curr_group.geometry,\n",
    "                            locations=curr_group.index,\n",
    "                            color='Critically Endangered', # Change this based on dropdown\n",
    "                            color_continuous_scale='balance',\n",
    "                            range_color=[curr_group['Critically Endangered'].min(), curr_group['Critically Endangered'].max()],  \n",
    "                            mapbox_style='streets',  \n",
    "                            zoom=6,  \n",
    "                            center={\"lat\": curr_group.geometry.centroid.y.mean(), \n",
    "                                    \"lon\": curr_group.geometry.centroid.x.mean()}, \n",
    "                            opacity=0.6,\n",
    "                            )\n",
    "\n",
    "fig.update_layout(margin=dict(l=0, r=0, t=0, b=0))\n",
    "\n",
    "fig.update_layout(coloraxis_colorbar=dict(title=\"Critically Endangered<br>Species\",yanchor=\"top\",xanchor='right',\n",
    "                            y=1, x=1, ticks=\"outside\", thickness=10, title_font_color='#0c232c',  \n",
    "                            ticksuffix=' Species',\n",
    "                            tickfont=dict(\n",
    "                            size=12,\n",
    "                            color='#0c232c')\n",
    "                        )\n",
    "                    )\n",
    "\n",
    "hover_template = '<b>%{customdata[0]}</b><br>Unique Species: %{customdata[1]:.0f}<extra></extra>'\n",
    "\n",
    "fig.update_traces(hovertemplate=hover_template,\n",
    "                  customdata=bio_land_gdf[['name', 'Critically Endangered']])\n",
    "\n",
    "fig.show()"
   ]
  },
  {
   "cell_type": "markdown",
   "metadata": {},
   "source": [
    "### BIO 3: The third visualization for the biodiversity data is ALSO a DRILLDOWN operation on the first chloropleth map and is a **Horizontal Stacked Bar Chart** that shows the number of [CR/EN/VU] unique species per Province. In addition to this, the drilldown will be based on Island Groups\n",
    "#### Interactions:\n",
    "- A button that triggers the drilldown (same button as BIO 2)\n",
    "- DropDown/RadioButtons that switch between \"Luzon, Visayas, and Mindanao\" (same button as BIO 2)"
   ]
  },
  {
   "cell_type": "code",
   "execution_count": null,
   "metadata": {},
   "outputs": [],
   "source": [
    "# Island Group\n",
    "luzon_data = bio_land_gdf[bio_land_gdf['island_group'] == 'Luzon'].sort_values(by='total_species', ascending=True)\n",
    "\n",
    "# Create stacked bar plot using Plotly Express\n",
    "fig = px.bar(luzon_data,\n",
    "             x=['Vulnerable', 'Endangered', 'Critically Endangered'],  \n",
    "             y='name',  \n",
    "             title='Number of Unique Endangered Species in Luzon',\n",
    "             labels={'Vulnerable', 'Endangered', 'Critically Endangered'},  \n",
    "             orientation='h',  \n",
    "             height=600,  \n",
    "             color_discrete_sequence=['yellow', 'orange', 'red'], \n",
    "             )\n",
    "\n",
    "fig.update_layout(\n",
    "    xaxis_title='Number of Unique Species', \n",
    "    yaxis_title='Province',\n",
    "    legend_title='Category',\n",
    ")\n",
    "\n",
    "hover_template = '<b>%{customdata[0]}</b><br>Unique Species: %{x}<extra></extra>'\n",
    "\n",
    "fig.update_traces(hovertemplate=hover_template,\n",
    "                  customdata=luzon_data[['name']])\n",
    "\n",
    "fig.show()"
   ]
  },
  {
   "cell_type": "code",
   "execution_count": null,
   "metadata": {},
   "outputs": [],
   "source": [
    "print(bio_sea_gdf.shape)\n",
    "bio_sea_gdf.head()"
   ]
  },
  {
   "cell_type": "markdown",
   "metadata": {},
   "source": [
    "### BIO 4: The fourth visualization for the biodiversity data is a **Chloropleth Map** that shows the number of [Total/CR/EN/VU] unique species per sea.\n",
    "#### Interactions:\n",
    "- DropDown/RadioButtons that switch between \"Total, CR, EN and VU\" through Dash"
   ]
  },
  {
   "cell_type": "code",
   "execution_count": null,
   "metadata": {},
   "outputs": [],
   "source": [
    "fig = px.choropleth_mapbox(bio_sea_gdf,\n",
    "                            geojson=bio_sea_gdf.geometry,\n",
    "                            locations=bio_sea_gdf.index,\n",
    "                            color='Critically Endangered', # Change this based on dropdown\n",
    "                            color_continuous_scale='sunsetdark',\n",
    "                            range_color=[bio_sea_gdf['Critically Endangered'].min(), bio_sea_gdf['Critically Endangered'].max()],  \n",
    "                            mapbox_style='streets',  \n",
    "                            zoom=5,  \n",
    "                            center={\"lat\": bio_sea_gdf.geometry.centroid.y.mean(), \n",
    "                                    \"lon\": bio_sea_gdf.geometry.centroid.x.mean()}, \n",
    "                            opacity=0.6,\n",
    "                            )\n",
    "\n",
    "fig.update_layout(margin=dict(l=0, r=0, t=0, b=0))\n",
    "\n",
    "fig.update_layout(coloraxis_colorbar=dict(title=\"Critically Endangered<br>Species\",yanchor=\"top\",xanchor='right',\n",
    "                            y=1, x=1, ticks=\"outside\", thickness=10, title_font_color='#0c232c',  \n",
    "                            ticksuffix=' Species',\n",
    "                            tickfont=dict(\n",
    "                            size=12,\n",
    "                            color='#0c232c')\n",
    "                        )\n",
    "                    )\n",
    "\n",
    "hover_template = '<b>%{customdata[0]}</b><br>Unique Species: %{customdata[1]:.0f}<extra></extra>'\n",
    "\n",
    "fig.update_traces(hovertemplate=hover_template,\n",
    "                  customdata=bio_sea_gdf[['name', 'Critically Endangered']])\n",
    "\n",
    "fig.show()"
   ]
  },
  {
   "cell_type": "markdown",
   "metadata": {},
   "source": [
    "### BIO 5: The fifth visualization for the biodiversity data is a **Horizontal Stacked Bar Chart** that shows the number of [CR/EN/VU] unique species per Sea.\n",
    "#### Interactions:\n",
    "- A button that shows the visualization"
   ]
  },
  {
   "cell_type": "code",
   "execution_count": null,
   "metadata": {},
   "outputs": [],
   "source": [
    "# Create stacked bar plot using Plotly Express\n",
    "fig = px.bar(bio_sea_gdf,\n",
    "             x=['Vulnerable', 'Endangered', 'Critically Endangered'],  \n",
    "             y='name',  \n",
    "             title='Number of Unique Endangered Species in Sea',\n",
    "             labels={'Vulnerable', 'Endangered', 'Critically Endangered'},  \n",
    "             orientation='h',  \n",
    "             height=600,  \n",
    "             color_discrete_sequence=['yellow', 'orange', 'red'], \n",
    "             )\n",
    "\n",
    "fig.update_layout(\n",
    "    xaxis_title='Number of Unique Species', \n",
    "    yaxis_title='Province',\n",
    "    legend_title='Category',\n",
    ")\n",
    "\n",
    "hover_template = '<b>%{customdata[0]}</b><br>Unique Species: %{x}<extra></extra>'\n",
    "\n",
    "fig.update_traces(hovertemplate=hover_template,\n",
    "                  customdata=bio_sea_gdf[['name']])\n",
    "\n",
    "fig.show()"
   ]
  },
  {
   "cell_type": "markdown",
   "metadata": {},
   "source": [
    "**APP IDEAS**\n",
    "- There is toggle that switches the page to show Land Data or Sea Data\n",
    "- Bio 1, Bio 2, and Bio 3 is part of the Land and will have interactions that are connected to each other\n",
    "- Land data will somehow be related to the temp data\n",
    "- Bio 4, and Bio 5 is part of the Sea and will havee interactions that are also connected to each other\n",
    "- Will also be compared to temp data"
   ]
  },
  {
   "cell_type": "markdown",
   "metadata": {},
   "source": [
    "# Disaster"
   ]
  },
  {
   "cell_type": "code",
   "execution_count": null,
   "metadata": {},
   "outputs": [],
   "source": [
    "print(disaster_gdf.shape)\n",
    "disaster_gdf.head()"
   ]
  },
  {
   "cell_type": "markdown",
   "metadata": {},
   "source": [
    "### DISASTER 1: The first visualization for the disaster data is a **Chloropleth Map** that shows the number of [Disaster Type] per Province.\n",
    "#### Interactions:\n",
    "- DropDown/RadioButtons that switch between Disaster Types (Total, Storm, Flood, Earthquake, Volcanic, Mass Movement, Drought) through Dash"
   ]
  },
  {
   "cell_type": "code",
   "execution_count": null,
   "metadata": {},
   "outputs": [],
   "source": [
    "fig = px.choropleth_mapbox(disaster_gdf,\n",
    "                            geojson=disaster_gdf.geometry,\n",
    "                            locations=disaster_gdf.index,\n",
    "                            color='Total Disaster Count', # Change based on dropdown value\n",
    "                            color_continuous_scale='reds',\n",
    "                            range_color=[disaster_gdf['Total Disaster Count'].min(), disaster_gdf['Total Disaster Count'].max()],  \n",
    "                            mapbox_style='streets',  \n",
    "                            zoom=5,  \n",
    "                            center={\"lat\": disaster_gdf.geometry.centroid.y.mean(), \n",
    "                                    \"lon\": disaster_gdf.geometry.centroid.x.mean()}, \n",
    "                            opacity=0.6,\n",
    "                            )\n",
    "\n",
    "fig.update_layout(margin=dict(l=0, r=0, t=0, b=0))\n",
    "\n",
    "fig.update_layout(coloraxis_colorbar=dict(title=\"Total Disaster<br>Count\",yanchor=\"top\",xanchor='right',\n",
    "                            y=1, x=1, ticks=\"outside\", thickness=10, title_font_color='#0c232c',  \n",
    "                            # ticksuffix=' disasters',\n",
    "                            tickfont=dict(\n",
    "                            size=12,\n",
    "                            color='#0c232c')\n",
    "                        )\n",
    "                    )\n",
    "\n",
    "hover_template = '<b>%{customdata[0]}</b><br>%{customdata[1]:.0f} disasters<extra></extra>'\n",
    "\n",
    "fig.update_traces(hovertemplate=hover_template,\n",
    "                  customdata=disaster_gdf[['Area Name', 'Total Disaster Count']])\n",
    "\n",
    "fig.show()"
   ]
  },
  {
   "cell_type": "markdown",
   "metadata": {},
   "source": [
    "### DISASTER 2: The second visualization for the disaster data is a **Horizontal Bar Chart** that shows the number of [Disaster Type] per Province per [Island Group].\n",
    "#### Interactions:\n",
    "- DropDown/RadioButtons that switch between Disaster Types (Total, Storm, Flood, Earthquake, Volcanic, Mass Movement, Drought) through Dash (Same button as Disaster 1 visualization)\n",
    "- DropDown/RadioButtons that switch between Island Groups (Luzon Visayas Mindanao)"
   ]
  },
  {
   "cell_type": "code",
   "execution_count": null,
   "metadata": {},
   "outputs": [],
   "source": [
    "# Island Group\n",
    "luzon_disaster = disaster_gdf[disaster_gdf['Island Group'] == 'Luzon'].sort_values(by='Total Disaster Count', ascending=True)\n",
    "\n",
    "# Create stacked bar plot using Plotly Express\n",
    "fig = px.bar(luzon_disaster,\n",
    "             x='Total Disaster Count',  \n",
    "             y='Area Name',  \n",
    "             title='Total Disasters in Luzon per Province',\n",
    "             orientation='h',  \n",
    "             height=600,  \n",
    "             color_discrete_sequence=['lightblue'], \n",
    "             )\n",
    "\n",
    "fig.update_layout(\n",
    "    xaxis_title='Total Disasters', \n",
    "    yaxis_title='Province',\n",
    ")\n",
    "\n",
    "hover_template = '<b>%{customdata[0]}</b><br>%{x} disasters<extra></extra>'\n",
    "\n",
    "fig.update_traces(hovertemplate=hover_template,\n",
    "                  customdata=luzon_disaster[['Area Name']])\n",
    "\n",
    "fig.show()"
   ]
  },
  {
   "cell_type": "markdown",
   "metadata": {},
   "source": [
    "### DISASTER 3: The third visualization for the disaster data is a **Chloropleth Map** that shows the number of [Disaster Type] per REGION.\n",
    "#### Interactions:\n",
    "- DropDown/RadioButtons that switch between Disaster Types (Total, Storm, Flood, Earthquake, Volcanic, Mass Movement, Drought) through Dash"
   ]
  },
  {
   "cell_type": "code",
   "execution_count": null,
   "metadata": {},
   "outputs": [],
   "source": [
    "Region_gdf = disaster_gdf.copy()\n",
    "Region_tot_ave = Region_gdf.drop(columns=['geometry']).groupby('Region').sum()\n",
    "\n",
    "def region_count(disaster_type,col_name):\n",
    "    Region_gdf[col_name] = np.nan #Create a new column that contains the number of disasters per region\n",
    "\n",
    "    for i1,r1 in Region_gdf.iterrows():\n",
    "        for i2,r2 in Region_tot_ave.iterrows():\n",
    "            if r1['Region'] == i2:\n",
    "                Region_gdf.at[i1, col_name] = r2[disaster_type]\n",
    "            else:\n",
    "                continue\n",
    "\n",
    "# Total Disasters per Region\n",
    "region_count('Total Disaster Count','Region_tot')\n",
    "# Storm per Region\n",
    "region_count('Storm Count','Region_storm')\n",
    "# Flood per Region\n",
    "region_count('Flood Count','Region_flood')\n",
    "# Earthquake per Region\n",
    "region_count('Earthquake Count','Region_earth')\n",
    "# Volcanic Activity per Region\n",
    "region_count('Volcanic Activity Count','Region_vol')\n",
    "# Mass Movement per Region\n",
    "region_count('Mass Movement Count','Region_mass')\n",
    "# Drought per Region\n",
    "region_count('Drought Count','Region_drought')\n",
    "Region_gdf.head()"
   ]
  },
  {
   "cell_type": "code",
   "execution_count": null,
   "metadata": {},
   "outputs": [],
   "source": [
    "fig = px.choropleth_mapbox(Region_gdf,\n",
    "                            geojson=Region_gdf.geometry,\n",
    "                            locations=Region_gdf.index,\n",
    "                            color='Region_tot', # Change based on dropdown value\n",
    "                            color_continuous_scale='amp',\n",
    "                            range_color=[Region_gdf['Region_tot'].min(), Region_gdf['Region_tot'].max()],  \n",
    "                            mapbox_style='streets',  \n",
    "                            zoom=5,  \n",
    "                            center={\"lat\": Region_gdf.geometry.centroid.y.mean(), \n",
    "                                    \"lon\": Region_gdf.geometry.centroid.x.mean()}, \n",
    "                            opacity=0.6,\n",
    "                            )\n",
    "\n",
    "fig.update_layout(margin=dict(l=0, r=0, t=0, b=0))\n",
    "\n",
    "fig.update_layout(coloraxis_colorbar=dict(title=\"Total Disaster<br>Count\",yanchor=\"top\",xanchor='right',\n",
    "                            y=1, x=1, ticks=\"outside\", thickness=10, title_font_color='#0c232c',  \n",
    "                            # ticksuffix=' disasters',\n",
    "                            tickfont=dict(\n",
    "                            size=12,\n",
    "                            color='#0c232c')\n",
    "                        )\n",
    "                    )\n",
    "\n",
    "hover_template = '<b>%{customdata[0]}</b><br>%{customdata[1]:.0f} disasters<extra></extra>'\n",
    "\n",
    "fig.update_traces(hovertemplate=hover_template,\n",
    "                  customdata=Region_gdf[['Region', 'Region_tot']])\n",
    "\n",
    "fig.show()"
   ]
  },
  {
   "cell_type": "markdown",
   "metadata": {},
   "source": [
    "### DISASTER 4: The fourth visualization for the disaster data is a **Horizontal Bar Chart** that shows the number of [Disaster Type] per REGION per [Island Group].\n",
    "#### Interactions:\n",
    "- DropDown/RadioButtons that switch between Disaster Types (Total, Storm, Flood, Earthquake, Volcanic, Mass Movement, Drought) through Dash (Same button as Disaster 3 visualization)\n",
    "- DropDown/RadioButtons that switch between Island Groups (Luzon Visayas Mindanao)"
   ]
  },
  {
   "cell_type": "code",
   "execution_count": null,
   "metadata": {},
   "outputs": [],
   "source": [
    "# Island Group\n",
    "luzon_reg_disaster = Region_gdf[Region_gdf['Island Group'] == 'Luzon'].groupby('Region')['Region_tot'].sum().sort_values(ascending=True)\n",
    "\n",
    "# Create stacked bar plot using Plotly Express\n",
    "fig = px.bar(x=luzon_reg_disaster.values,  \n",
    "             y=luzon_reg_disaster.index,  \n",
    "             title='Total Disasters in Luzon per Region',\n",
    "             orientation='h',  \n",
    "             height=600,  \n",
    "             color_discrete_sequence=['blue'], \n",
    "             )\n",
    "\n",
    "fig.update_layout(\n",
    "    xaxis_title='Total Disasters', \n",
    "    yaxis_title='Region',\n",
    ")\n",
    "\n",
    "hover_template = '<b>%{y}</b><br>%{x} disasters<extra></extra>'\n",
    "\n",
    "fig.update_traces(hovertemplate=hover_template,\n",
    "                  customdata=luzon_reg_disaster.reset_index().values)\n",
    "\n",
    "fig.show()\n"
   ]
  },
  {
   "cell_type": "markdown",
   "metadata": {},
   "source": [
    "**APP IDEAS**\n",
    "- There is toggle that switches the visualizations to rollup or drilldown between visualizing by province or by region\n",
    "- Disaster 1 and 2 interactions will be connected\n",
    "- Disasteer 3 and 4 interactions will be connected\n",
    "- Header and stories to be provided as text "
   ]
  }
 ],
 "metadata": {
  "kernelspec": {
   "display_name": "Python 3",
   "language": "python",
   "name": "python3"
  },
  "language_info": {
   "codemirror_mode": {
    "name": "ipython",
    "version": 3
   },
   "file_extension": ".py",
   "mimetype": "text/x-python",
   "name": "python",
   "nbconvert_exporter": "python",
   "pygments_lexer": "ipython3",
   "version": "3.11.8"
  }
 },
 "nbformat": 4,
 "nbformat_minor": 2
}
